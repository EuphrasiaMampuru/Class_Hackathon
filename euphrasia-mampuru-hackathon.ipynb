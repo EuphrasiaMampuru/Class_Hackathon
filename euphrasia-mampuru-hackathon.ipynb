{
 "cells": [
  {
   "cell_type": "markdown",
   "metadata": {},
   "source": [
    "# importing packages "
   ]
  },
  {
   "cell_type": "code",
   "execution_count": 4,
   "metadata": {
    "_cell_guid": "b1076dfc-b9ad-4769-8c92-a6c4dae69d19",
    "_uuid": "8f2839f25d086af736a60e9eeb907d3b93b6e0e5",
    "execution": {
     "iopub.execute_input": "2021-12-03T05:52:35.594834Z",
     "iopub.status.busy": "2021-12-03T05:52:35.594422Z",
     "iopub.status.idle": "2021-12-03T05:52:37.650750Z",
     "shell.execute_reply": "2021-12-03T05:52:37.649810Z",
     "shell.execute_reply.started": "2021-12-03T05:52:35.594727Z"
    }
   },
   "outputs": [],
   "source": [
    "\n",
    "# Packages for data analysis\n",
    "import pandas as pd\n",
    "import numpy as np\n",
    "import time\n",
    "\n",
    "# Packages for visualizations\n",
    "import seaborn as sns\n",
    "import matplotlib.style as style\n",
    "\n",
    "# Packages for preprocessing\n",
    "import nltk\n",
    "import string\n",
    "import re\n",
    "#from textblob import TextBlob\n",
    "from sklearn.feature_extraction.text import TfidfVectorizer\n",
    "\n",
    "# Packages for training models\n",
    "from sklearn.pipeline import Pipeline\n",
    "from sklearn.linear_model import LogisticRegression, SGDClassifier\n",
    "from sklearn.naive_bayes import MultinomialNB, ComplementNB\n",
    "from sklearn.svm import LinearSVC, SVC\n",
    "from sklearn.model_selection import train_test_split\n",
    "from sklearn.model_selection import GridSearchCV, KFold, cross_val_score\n",
    "from sklearn.neighbors import KNeighborsClassifier\n",
    "from sklearn import metrics\n",
    "#import xgboost as xgb\n",
    "from sklearn.pipeline import Pipeline\n",
    "\n",
    "#from textblob import TextBlob\n",
    "from sklearn.feature_extraction.text import TfidfVectorizer\n",
    "\n",
    "import time\n",
    "\n",
    "\n",
    "# Model Evaluation Packages\n",
    "from sklearn.metrics import accuracy_score, precision_score, recall_score\n",
    "from sklearn.metrics import confusion_matrix, classification_report, f1_score\n",
    "from sklearn.metrics import make_scorer\n",
    "\n",
    "import matplotlib.pyplot as plt\n",
    "%matplotlib inline\n",
    "\n",
    "# Style\n",
    "sns.set(font_scale=1.5)\n",
    "style.use('seaborn-pastel')\n",
    "style.use('seaborn-poster')"
   ]
  },
  {
   "cell_type": "code",
   "execution_count": 5,
   "metadata": {
    "execution": {
     "iopub.execute_input": "2021-11-29T22:48:17.669415Z",
     "iopub.status.busy": "2021-11-29T22:48:17.669015Z",
     "iopub.status.idle": "2021-11-29T22:48:37.708342Z",
     "shell.execute_reply": "2021-11-29T22:48:37.707447Z",
     "shell.execute_reply.started": "2021-11-29T22:48:17.669383Z"
    }
   },
   "outputs": [
    {
     "name": "stderr",
     "output_type": "stream",
     "text": [
      "[nltk_data] Downloading package vader_lexicon to\n",
      "[nltk_data]     /Users/MamaAmakah/nltk_data...\n"
     ]
    },
    {
     "data": {
      "text/plain": [
       "True"
      ]
     },
     "execution_count": 5,
     "metadata": {},
     "output_type": "execute_result"
    }
   ],
   "source": [
    "nltk.download('vader_lexicon')"
   ]
  },
  {
   "cell_type": "code",
   "execution_count": 6,
   "metadata": {
    "execution": {
     "iopub.execute_input": "2021-12-03T05:53:55.219625Z",
     "iopub.status.busy": "2021-12-03T05:53:55.218577Z",
     "iopub.status.idle": "2021-12-03T05:53:55.686786Z",
     "shell.execute_reply": "2021-12-03T05:53:55.685760Z",
     "shell.execute_reply.started": "2021-12-03T05:53:55.219565Z"
    }
   },
   "outputs": [],
   "source": [
    "# importing the dataset\n",
    "train = pd.read_csv('train_set.csv')\n",
    "test = pd.read_csv('test_set.csv')\n",
    "sample_submission = pd.read_csv('sample_submission.csv')"
   ]
  },
  {
   "cell_type": "markdown",
   "metadata": {},
   "source": [
    "Some EDA to determine how to treat data"
   ]
  },
  {
   "cell_type": "code",
   "execution_count": 7,
   "metadata": {
    "execution": {
     "iopub.execute_input": "2021-12-03T05:54:00.023096Z",
     "iopub.status.busy": "2021-12-03T05:54:00.022804Z",
     "iopub.status.idle": "2021-12-03T05:54:00.036355Z",
     "shell.execute_reply": "2021-12-03T05:54:00.035572Z",
     "shell.execute_reply.started": "2021-12-03T05:54:00.023067Z"
    }
   },
   "outputs": [
    {
     "name": "stdout",
     "output_type": "stream",
     "text": [
      "0    umgaqo-siseko wenza amalungiselelo kumaziko ax...\n",
      "1    i-dha iya kuba nobulumko bokubeka umsebenzi na...\n",
      "2    the province of kwazulu-natal department of tr...\n",
      "3    o netefatša gore o ba file dilo ka moka tše le...\n",
      "4    khomishini ya ndinganyiso ya mbeu yo ewa maana...\n",
      "5    dinyakišišo tše tša go dirwa gabedi ka ngwaga ...\n",
      "6    kgetse nngwe le nngwe e e sa faposiwang mo tsh...\n",
      "Name: text, dtype: object\n"
     ]
    }
   ],
   "source": [
    "print(train['text'].head(7)) #looking thetext column"
   ]
  },
  {
   "cell_type": "code",
   "execution_count": 8,
   "metadata": {
    "execution": {
     "iopub.execute_input": "2021-12-03T05:54:10.408081Z",
     "iopub.status.busy": "2021-12-03T05:54:10.407614Z",
     "iopub.status.idle": "2021-12-03T05:54:10.421633Z",
     "shell.execute_reply": "2021-12-03T05:54:10.420817Z",
     "shell.execute_reply.started": "2021-12-03T05:54:10.408048Z"
    }
   },
   "outputs": [
    {
     "data": {
      "text/plain": [
       "eng    3000\n",
       "tso    3000\n",
       "tsn    3000\n",
       "afr    3000\n",
       "nbl    3000\n",
       "ssw    3000\n",
       "zul    3000\n",
       "xho    3000\n",
       "nso    3000\n",
       "ven    3000\n",
       "sot    3000\n",
       "Name: lang_id, dtype: int64"
      ]
     },
     "execution_count": 8,
     "metadata": {},
     "output_type": "execute_result"
    }
   ],
   "source": [
    "train.lang_id.value_counts() #checking for value counts"
   ]
  },
  {
   "cell_type": "code",
   "execution_count": 9,
   "metadata": {
    "execution": {
     "iopub.execute_input": "2021-12-03T05:54:13.323272Z",
     "iopub.status.busy": "2021-12-03T05:54:13.322458Z",
     "iopub.status.idle": "2021-12-03T05:54:13.363553Z",
     "shell.execute_reply": "2021-12-03T05:54:13.362622Z",
     "shell.execute_reply.started": "2021-12-03T05:54:13.323233Z"
    }
   },
   "outputs": [
    {
     "name": "stdout",
     "output_type": "stream",
     "text": [
      "TRAINING DATA\n",
      "=============\n",
      "\n",
      "Shape of the dataset: (33000, 2)\n",
      "\n",
      "Total Number of unique tweets: 29948\n",
      "\n",
      "Total Number of missing values:\n",
      "lang_id    0\n",
      "text       0\n",
      "dtype: int64\n",
      "\n",
      "\n",
      "TEST DATA\n",
      "=========\n",
      "\n",
      "Shape of the dataset: (5682, 2)\n",
      "\n",
      "Total Number of unique tweets: 5459\n",
      "\n",
      "Total Number of missing values:\n",
      "index    0\n",
      "text     0\n",
      "dtype: int64\n",
      "\n"
     ]
    }
   ],
   "source": [
    "# Taking general overview at both datasets\n",
    "print('TRAINING DATA')\n",
    "print('============='+('\\n'))\n",
    "print('Shape of the dataset: {}\\n'.format(train.shape))\n",
    "print('Total Number of unique tweets: {}\\n'.format(len(set(train['text']))))\n",
    "print('Total Number of missing values:\\n{}\\n\\n'.format(train.isnull().sum()))\n",
    "print('TEST DATA')\n",
    "print('========='+('\\n'))\n",
    "print('Shape of the dataset: {}\\n'.format(test.shape))\n",
    "print('Total Number of unique tweets: {}\\n'.format(len(set(test['text']))))\n",
    "print('Total Number of missing values:\\n{}\\n' .format(test.isnull().sum()))"
   ]
  },
  {
   "cell_type": "markdown",
   "metadata": {},
   "source": [
    "Some data engineering before modelling data"
   ]
  },
  {
   "cell_type": "code",
   "execution_count": 10,
   "metadata": {
    "execution": {
     "iopub.execute_input": "2021-12-03T05:54:17.957683Z",
     "iopub.status.busy": "2021-12-03T05:54:17.957360Z",
     "iopub.status.idle": "2021-12-03T05:54:17.963359Z",
     "shell.execute_reply": "2021-12-03T05:54:17.962245Z",
     "shell.execute_reply.started": "2021-12-03T05:54:17.957649Z"
    }
   },
   "outputs": [],
   "source": [
    "#function to clean our data, removing punctuation,extra spaces etc\n",
    "def clean_text(text):\n",
    "    text=re.sub('<.*?>', ' ', text)\n",
    "    text = re.sub(r'\\d+', ' ', text)\n",
    "    text = re.sub(\"\\n\",\" \",text)\n",
    "    text = text.lower()\n",
    "    text=' '.join(text.split())\n",
    "    return text"
   ]
  },
  {
   "cell_type": "code",
   "execution_count": 11,
   "metadata": {
    "execution": {
     "iopub.execute_input": "2021-12-03T05:54:22.809170Z",
     "iopub.status.busy": "2021-12-03T05:54:22.808561Z",
     "iopub.status.idle": "2021-12-03T05:54:23.312604Z",
     "shell.execute_reply": "2021-12-03T05:54:23.311588Z",
     "shell.execute_reply.started": "2021-12-03T05:54:22.809134Z"
    }
   },
   "outputs": [],
   "source": [
    "# Application of the function to clean the tweets\n",
    "train['text'] = train['text'].apply(clean_text)\n",
    "test['text'] = test['text'].apply(clean_text)"
   ]
  },
  {
   "cell_type": "code",
   "execution_count": 12,
   "metadata": {
    "execution": {
     "iopub.execute_input": "2021-12-03T05:54:26.382294Z",
     "iopub.status.busy": "2021-12-03T05:54:26.381979Z",
     "iopub.status.idle": "2021-12-03T05:54:26.533765Z",
     "shell.execute_reply": "2021-12-03T05:54:26.532843Z",
     "shell.execute_reply.started": "2021-12-03T05:54:26.382260Z"
    }
   },
   "outputs": [
    {
     "name": "stderr",
     "output_type": "stream",
     "text": [
      "<ipython-input-12-6b597cefd955>:2: FutureWarning: The default value of regex will change from True to False in a future version.\n",
      "  train[\"text\"] = train[\"text\"].str.replace(\".txt\", \" text file\")\n",
      "<ipython-input-12-6b597cefd955>:3: FutureWarning: The default value of regex will change from True to False in a future version.\n",
      "  test[\"text\"] = test[\"text\"].str.replace(\".txt\", \" text file\")\n"
     ]
    }
   ],
   "source": [
    "# Replace '.txt' with 'text file'\n",
    "train[\"text\"] = train[\"text\"].str.replace(\".txt\", \" text file\")\n",
    "test[\"text\"] = test[\"text\"].str.replace(\".txt\", \" text file\")"
   ]
  },
  {
   "cell_type": "markdown",
   "metadata": {},
   "source": [
    "# Modelling\n",
    "\n",
    "#divide training data into features and target variable"
   ]
  },
  {
   "cell_type": "code",
   "execution_count": 15,
   "metadata": {
    "execution": {
     "iopub.execute_input": "2021-12-03T05:54:31.138285Z",
     "iopub.status.busy": "2021-12-03T05:54:31.137466Z",
     "iopub.status.idle": "2021-12-03T05:54:31.142567Z",
     "shell.execute_reply": "2021-12-03T05:54:31.141930Z",
     "shell.execute_reply.started": "2021-12-03T05:54:31.138244Z"
    }
   },
   "outputs": [],
   "source": [
    "X = train['text']\n",
    "y = train['lang_id']"
   ]
  },
  {
   "cell_type": "code",
   "execution_count": 16,
   "metadata": {
    "execution": {
     "iopub.execute_input": "2021-12-03T05:54:35.948074Z",
     "iopub.status.busy": "2021-12-03T05:54:35.947575Z",
     "iopub.status.idle": "2021-12-03T05:54:35.963243Z",
     "shell.execute_reply": "2021-12-03T05:54:35.962551Z",
     "shell.execute_reply.started": "2021-12-03T05:54:35.948033Z"
    }
   },
   "outputs": [],
   "source": [
    "#splitdatainto training and validation data\n",
    "X_train, X_val, y_train, y_val = train_test_split(X, y, test_size=0.10)"
   ]
  },
  {
   "cell_type": "markdown",
   "metadata": {},
   "source": [
    "LINEAR SVC REGRESSION"
   ]
  },
  {
   "cell_type": "code",
   "execution_count": 17,
   "metadata": {
    "execution": {
     "iopub.execute_input": "2021-12-03T05:54:50.808645Z",
     "iopub.status.busy": "2021-12-03T05:54:50.808133Z",
     "iopub.status.idle": "2021-12-03T05:54:59.939138Z",
     "shell.execute_reply": "2021-12-03T05:54:59.938038Z",
     "shell.execute_reply.started": "2021-12-03T05:54:50.808608Z"
    }
   },
   "outputs": [],
   "source": [
    "#linear SVC model\n",
    "Lsvc=LinearSVC(random_state=42)\n",
    "#fit the model\n",
    "clf_text = Pipeline([('tfidf', TfidfVectorizer(min_df=1,\n",
    "                                               max_df=0.9,\n",
    "                                               ngram_range=(1, 2))),\n",
    "                     ('clf', Lsvc)])\n",
    "\n",
    "# Logging the Execution Time for each model\n",
    "start_time = time.time()\n",
    "clf_text.fit(X_train, y_train)\n",
    "run_time = time.time()-start_time\n",
    "\n",
    "Lsvc_pred = clf_text.predict(X_val)"
   ]
  },
  {
   "cell_type": "code",
   "execution_count": 18,
   "metadata": {
    "execution": {
     "iopub.execute_input": "2021-12-03T06:08:04.578969Z",
     "iopub.status.busy": "2021-12-03T06:08:04.578633Z",
     "iopub.status.idle": "2021-12-03T06:08:04.645179Z",
     "shell.execute_reply": "2021-12-03T06:08:04.644058Z",
     "shell.execute_reply.started": "2021-12-03T06:08:04.578934Z"
    }
   },
   "outputs": [
    {
     "name": "stdout",
     "output_type": "stream",
     "text": [
      "F1 Macro:\n",
      "0.997303941557524\n",
      "F1 Accuracy:\n",
      "0.9972727272727273\n",
      "F1 Weighted:\n",
      "0.9972735388876004\n",
      "Executuion Time:\n",
      "11.32358694076538\n"
     ]
    }
   ],
   "source": [
    "#Lsvc metrics\n",
    "F1_Macro_Lsvc=metrics.f1_score(y_val,Lsvc_pred,average='macro')\n",
    "print(\"F1 Macro:\")\n",
    "print(F1_Macro_Lsvc)\n",
    "F1_Accuracy_Lsvc=metrics.f1_score(y_val, Lsvc_pred,average='micro')\n",
    "print(\"F1 Accuracy:\")\n",
    "print(F1_Accuracy_Lsvc)\n",
    "F1_Weighted_Lsvc=metrics.f1_score(y_val,Lsvc_pred,average='weighted')\n",
    "print(\"F1 Weighted:\")\n",
    "print(F1_Weighted_Lsvc)\n",
    "Execution_Time_Lsvc=run_time\n",
    "print(\"Executuion Time:\")\n",
    "print(Execution_Time_Lsvc)"
   ]
  },
  {
   "cell_type": "markdown",
   "metadata": {},
   "source": [
    "LOGISTIC REGRESSION"
   ]
  },
  {
   "cell_type": "code",
   "execution_count": 20,
   "metadata": {
    "execution": {
     "iopub.execute_input": "2021-12-03T06:12:23.644032Z",
     "iopub.status.busy": "2021-12-03T06:12:23.643723Z",
     "iopub.status.idle": "2021-12-03T06:15:42.042438Z",
     "shell.execute_reply": "2021-12-03T06:15:42.041468Z",
     "shell.execute_reply.started": "2021-12-03T06:12:23.644002Z"
    }
   },
   "outputs": [],
   "source": [
    "lr=LogisticRegression(random_state=42,\n",
    "                                  multi_class='ovr',\n",
    "                                  n_jobs=1,\n",
    "                                  C=1e5,\n",
    "                                  max_iter=4000)\n",
    "#fit the model\n",
    "clf_lr = Pipeline([('tfidf', TfidfVectorizer(min_df=1,\n",
    "                                               max_df=0.9,\n",
    "                                               ngram_range=(1, 2))),\n",
    "                     ('clf', lr)])\n",
    "\n",
    "        # Logging the Execution Time for each model\n",
    "start_time = time.time()\n",
    "clf_lr.fit(X_train, y_train)\n",
    "run_time = time.time()-start_time\n",
    "\n",
    "lr_pred = clf_lr.predict(X_val)"
   ]
  },
  {
   "cell_type": "code",
   "execution_count": 21,
   "metadata": {
    "execution": {
     "iopub.execute_input": "2021-12-03T06:19:25.747477Z",
     "iopub.status.busy": "2021-12-03T06:19:25.747155Z",
     "iopub.status.idle": "2021-12-03T06:19:25.814507Z",
     "shell.execute_reply": "2021-12-03T06:19:25.813573Z",
     "shell.execute_reply.started": "2021-12-03T06:19:25.747447Z"
    }
   },
   "outputs": [
    {
     "name": "stdout",
     "output_type": "stream",
     "text": [
      "F1 Macro:\n",
      "0.9976154555126836\n",
      "F1 Accuracy:\n",
      "0.9975757575757576\n",
      "F1 Weighted:\n",
      "0.9975765940407467\n",
      "Executuion Time:\n",
      "153.14912295341492\n"
     ]
    }
   ],
   "source": [
    "#Lr metrics\n",
    "F1_Macro_Lr=metrics.f1_score(y_val,lr_pred,average='macro')\n",
    "print(\"F1 Macro:\")\n",
    "print(F1_Macro_Lr)\n",
    "F1_Accuracy_Lr=metrics.f1_score(y_val, lr_pred,average='micro')\n",
    "print(\"F1 Accuracy:\")\n",
    "print(F1_Accuracy_Lr)\n",
    "F1_Weighted_Lr=metrics.f1_score(y_val,lr_pred,average='weighted')\n",
    "print(\"F1 Weighted:\")\n",
    "print(F1_Weighted_Lr)\n",
    "Execution_Time_Lr=run_time\n",
    "print(\"Executuion Time:\")\n",
    "print(Execution_Time_Lr)"
   ]
  },
  {
   "cell_type": "markdown",
   "metadata": {},
   "source": [
    "KN NEIGHBOURS CLASSIFIER"
   ]
  },
  {
   "cell_type": "code",
   "execution_count": 22,
   "metadata": {
    "execution": {
     "iopub.execute_input": "2021-12-03T06:19:37.381053Z",
     "iopub.status.busy": "2021-12-03T06:19:37.380745Z",
     "iopub.status.idle": "2021-12-03T06:19:46.700137Z",
     "shell.execute_reply": "2021-12-03T06:19:46.699263Z",
     "shell.execute_reply.started": "2021-12-03T06:19:37.381024Z"
    }
   },
   "outputs": [],
   "source": [
    "kn=KNeighborsClassifier(n_neighbors=5)\n",
    "#fit the model\n",
    "clf_kn = Pipeline([('tfidf', TfidfVectorizer(min_df=1,\n",
    "                                               max_df=0.9,\n",
    "                                               ngram_range=(1, 2))),\n",
    "                     ('clf', kn)])\n",
    "\n",
    "# Logging the Execution Time for each model\n",
    "start_time = time.time()\n",
    "clf_kn.fit(X_train, y_train)\n",
    "run_time = time.time()-start_time\n",
    "\n",
    "kn_pred = clf_kn.predict(X_val)"
   ]
  },
  {
   "cell_type": "code",
   "execution_count": 23,
   "metadata": {
    "execution": {
     "iopub.execute_input": "2021-12-03T06:21:58.037734Z",
     "iopub.status.busy": "2021-12-03T06:21:58.036661Z",
     "iopub.status.idle": "2021-12-03T06:21:58.105071Z",
     "shell.execute_reply": "2021-12-03T06:21:58.104266Z",
     "shell.execute_reply.started": "2021-12-03T06:21:58.037682Z"
    }
   },
   "outputs": [
    {
     "name": "stdout",
     "output_type": "stream",
     "text": [
      "F1 Macro:\n",
      "0.9669844746624089\n",
      "F1 Accuracy:\n",
      "0.9672727272727273\n",
      "F1 Weighted:\n",
      "0.9669583027167831\n",
      "Executuion Time:\n",
      "6.7123730182647705\n"
     ]
    }
   ],
   "source": [
    "#kn metrics\n",
    "F1_Macro_kn=metrics.f1_score(y_val,kn_pred,average='macro')\n",
    "print(\"F1 Macro:\")\n",
    "print(F1_Macro_kn)\n",
    "F1_Accuracy_kn=metrics.f1_score(y_val, kn_pred,average='micro')\n",
    "print(\"F1 Accuracy:\")\n",
    "print(F1_Accuracy_kn)\n",
    "F1_Weighted_kn=metrics.f1_score(y_val,kn_pred,average='weighted')\n",
    "print(\"F1 Weighted:\")\n",
    "print(F1_Weighted_kn)\n",
    "Execution_Time_kn=run_time\n",
    "print(\"Executuion Time:\")\n",
    "print(Execution_Time_kn)"
   ]
  },
  {
   "cell_type": "markdown",
   "metadata": {},
   "source": [
    "MULTINOMIAL NB"
   ]
  },
  {
   "cell_type": "code",
   "execution_count": 24,
   "metadata": {
    "execution": {
     "iopub.execute_input": "2021-12-03T06:22:03.463900Z",
     "iopub.status.busy": "2021-12-03T06:22:03.462910Z",
     "iopub.status.idle": "2021-12-03T06:22:09.894280Z",
     "shell.execute_reply": "2021-12-03T06:22:09.893595Z",
     "shell.execute_reply.started": "2021-12-03T06:22:03.463859Z"
    }
   },
   "outputs": [],
   "source": [
    "mnb=MultinomialNB()\n",
    "#fit the model\n",
    "clf_mnb = Pipeline([('tfidf', TfidfVectorizer(min_df=1,\n",
    "                                               max_df=0.9,\n",
    "                                               ngram_range=(1, 2))),\n",
    "                     ('clf', mnb)])\n",
    "\n",
    "# Logging the Execution Time for each model\n",
    "start_time = time.time()\n",
    "clf_mnb.fit(X_train, y_train)\n",
    "run_time = time.time()-start_time\n",
    "\n",
    "mnb_pred = clf_mnb.predict(X_val)"
   ]
  },
  {
   "cell_type": "code",
   "execution_count": 25,
   "metadata": {
    "execution": {
     "iopub.execute_input": "2021-12-03T06:22:49.635449Z",
     "iopub.status.busy": "2021-12-03T06:22:49.634907Z",
     "iopub.status.idle": "2021-12-03T06:22:49.682640Z",
     "shell.execute_reply": "2021-12-03T06:22:49.681595Z",
     "shell.execute_reply.started": "2021-12-03T06:22:49.635395Z"
    }
   },
   "outputs": [
    {
     "name": "stdout",
     "output_type": "stream",
     "text": [
      "F1 Macro:\n",
      "0.9984939191192189\n",
      "F1 Accuracy:\n",
      "0.9984848484848485\n",
      "F1 Weighted:\n",
      "0.9984848256743745\n",
      "Executuion Time:\n",
      "7.656442165374756\n"
     ]
    }
   ],
   "source": [
    "#mnb metrics\n",
    "F1_Macro_mnb=metrics.f1_score(y_val,mnb_pred,average='macro')\n",
    "print(\"F1 Macro:\")\n",
    "print(F1_Macro_mnb)\n",
    "F1_Accuracy_mnb=metrics.f1_score(y_val, mnb_pred,average='micro')\n",
    "print(\"F1 Accuracy:\")\n",
    "print(F1_Accuracy_mnb)\n",
    "F1_Weighted_mnb=metrics.f1_score(y_val,mnb_pred,average='weighted')\n",
    "print(\"F1 Weighted:\")\n",
    "print(F1_Weighted_mnb)\n",
    "Execution_Time_mnb=run_time\n",
    "print(\"Executuion Time:\")\n",
    "print(Execution_Time_mnb)"
   ]
  },
  {
   "cell_type": "markdown",
   "metadata": {},
   "source": [
    "SGD CLASSIFIER"
   ]
  },
  {
   "cell_type": "code",
   "execution_count": 26,
   "metadata": {
    "execution": {
     "iopub.execute_input": "2021-12-03T06:24:06.990790Z",
     "iopub.status.busy": "2021-12-03T06:24:06.990242Z",
     "iopub.status.idle": "2021-12-03T06:24:14.622422Z",
     "shell.execute_reply": "2021-12-03T06:24:14.621588Z",
     "shell.execute_reply.started": "2021-12-03T06:24:06.990746Z"
    }
   },
   "outputs": [],
   "source": [
    "sdg=SGDClassifier(loss='hinge',penalty='l2',\n",
    "                             alpha=1e-3,\n",
    "                             random_state=42,\n",
    "                             max_iter=5,\n",
    "                             tol=None)\n",
    "#fit the model\n",
    "clf_sdg = Pipeline([('tfidf', TfidfVectorizer(min_df=1,\n",
    "                                               max_df=0.9,\n",
    "                                               ngram_range=(1, 2))),\n",
    "                     ('clf', sdg)])\n",
    "\n",
    "# Logging the Execution Time for each model\n",
    "start_time = time.time()\n",
    "clf_sdg.fit(X_train, y_train)\n",
    "run_time = time.time()-start_time\n",
    "\n",
    "sdg_pred = clf_sdg.predict(X_val)"
   ]
  },
  {
   "cell_type": "code",
   "execution_count": 27,
   "metadata": {
    "execution": {
     "iopub.execute_input": "2021-12-03T06:24:23.339947Z",
     "iopub.status.busy": "2021-12-03T06:24:23.339615Z",
     "iopub.status.idle": "2021-12-03T06:24:23.387507Z",
     "shell.execute_reply": "2021-12-03T06:24:23.386613Z",
     "shell.execute_reply.started": "2021-12-03T06:24:23.339911Z"
    }
   },
   "outputs": [
    {
     "name": "stdout",
     "output_type": "stream",
     "text": [
      "F1 Macro:\n",
      "0.9867638870091128\n",
      "F1 Accuracy:\n",
      "0.9866666666666668\n",
      "F1 Weighted:\n",
      "0.986629587697399\n",
      "Executuion Time:\n",
      "9.397150039672852\n"
     ]
    }
   ],
   "source": [
    "#sdg metrics\n",
    "F1_Macro_sdg=metrics.f1_score(y_val,sdg_pred,average='macro')\n",
    "print(\"F1 Macro:\")\n",
    "print(F1_Macro_sdg)\n",
    "F1_Accuracy_sdg=metrics.f1_score(y_val, sdg_pred,average='micro')\n",
    "print(\"F1 Accuracy:\")\n",
    "print(F1_Accuracy_sdg)\n",
    "F1_Weighted_sdg=metrics.f1_score(y_val,sdg_pred,average='weighted')\n",
    "print(\"F1 Weighted:\")\n",
    "print(F1_Weighted_sdg)\n",
    "Execution_Time_sdg=run_time\n",
    "print(\"Executuion Time:\")\n",
    "print(Execution_Time_sdg)"
   ]
  },
  {
   "cell_type": "code",
   "execution_count": 28,
   "metadata": {
    "execution": {
     "iopub.execute_input": "2021-12-03T06:24:42.666091Z",
     "iopub.status.busy": "2021-12-03T06:24:42.665350Z",
     "iopub.status.idle": "2021-12-03T06:24:42.681563Z",
     "shell.execute_reply": "2021-12-03T06:24:42.680751Z",
     "shell.execute_reply.started": "2021-12-03T06:24:42.666047Z"
    }
   },
   "outputs": [],
   "source": [
    "# Refining the train-test split for validation\n",
    "X_train, X_val, y_train, y_val = train_test_split(X, y, test_size=0.01)"
   ]
  },
  {
   "cell_type": "code",
   "execution_count": 29,
   "metadata": {
    "execution": {
     "iopub.execute_input": "2021-12-03T06:24:47.249359Z",
     "iopub.status.busy": "2021-12-03T06:24:47.248992Z",
     "iopub.status.idle": "2021-12-03T06:24:56.869437Z",
     "shell.execute_reply": "2021-12-03T06:24:56.868332Z",
     "shell.execute_reply.started": "2021-12-03T06:24:47.249325Z"
    }
   },
   "outputs": [
    {
     "name": "stdout",
     "output_type": "stream",
     "text": [
      "              precision    recall  f1-score   support\n",
      "\n",
      "         afr       1.00      1.00      1.00        29\n",
      "         eng       1.00      1.00      1.00        32\n",
      "         nbl       1.00      1.00      1.00        29\n",
      "         nso       1.00      1.00      1.00        24\n",
      "         sot       1.00      1.00      1.00        36\n",
      "         ssw       1.00      1.00      1.00        35\n",
      "         tsn       1.00      1.00      1.00        32\n",
      "         tso       1.00      1.00      1.00        24\n",
      "         ven       1.00      1.00      1.00        36\n",
      "         xho       1.00      1.00      1.00        30\n",
      "         zul       1.00      1.00      1.00        23\n",
      "\n",
      "    accuracy                           1.00       330\n",
      "   macro avg       1.00      1.00      1.00       330\n",
      "weighted avg       1.00      1.00      1.00       330\n",
      "\n"
     ]
    }
   ],
   "source": [
    "# Creating a pipeline for the gridsearch\n",
    "param_grid = {'alpha': [0.1, 1, 5, 10]}  # setting parameter grid\n",
    "\n",
    "tuned_mnb = Pipeline([('tfidf', TfidfVectorizer(min_df=2,\n",
    "                                                max_df=0.9,\n",
    "                                                ngram_range=(1, 2))),\n",
    "                      ('mnb', GridSearchCV(MultinomialNB(),\n",
    "                                           param_grid=param_grid,\n",
    "                                           cv=5,\n",
    "                                           n_jobs=-1,\n",
    "                                           scoring='f1_weighted'))\n",
    "                      ])\n",
    "\n",
    "tuned_mnb.fit(X_train, y_train)  # Fitting the model\n",
    "\n",
    "y_pred_mnb = tuned_mnb.predict(X_val)  # predicting the fit on validation set\n",
    "\n",
    "print(classification_report(y_val, y_pred_mnb))"
   ]
  },
  {
   "cell_type": "code",
   "execution_count": null,
   "metadata": {},
   "outputs": [],
   "source": []
  },
  {
   "cell_type": "code",
   "execution_count": 24,
   "metadata": {
    "execution": {
     "iopub.execute_input": "2021-12-01T09:01:39.882618Z",
     "iopub.status.busy": "2021-12-01T09:01:39.882251Z",
     "iopub.status.idle": "2021-12-01T09:01:40.328586Z",
     "shell.execute_reply": "2021-12-01T09:01:40.327686Z",
     "shell.execute_reply.started": "2021-12-01T09:01:39.882581Z"
    }
   },
   "outputs": [],
   "source": [
    "submission_df = pd.DataFrame(test['index'])\n",
    "submission_df['lang_id'] = tuned_mnb.predict(test['text'])\n",
    "submission_df.to_csv('submission2.csv', index=False)"
   ]
  },
  {
   "cell_type": "code",
   "execution_count": null,
   "metadata": {},
   "outputs": [],
   "source": []
  }
 ],
 "metadata": {
  "kernelspec": {
   "display_name": "Python 3",
   "language": "python",
   "name": "python3"
  },
  "language_info": {
   "codemirror_mode": {
    "name": "ipython",
    "version": 3
   },
   "file_extension": ".py",
   "mimetype": "text/x-python",
   "name": "python",
   "nbconvert_exporter": "python",
   "pygments_lexer": "ipython3",
   "version": "3.8.8"
  }
 },
 "nbformat": 4,
 "nbformat_minor": 4
}
